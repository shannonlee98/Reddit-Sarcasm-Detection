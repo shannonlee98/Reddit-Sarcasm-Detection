{
 "cells": [
  {
   "cell_type": "code",
   "execution_count": 35,
   "metadata": {
    "colab": {
     "base_uri": "https://localhost:8080/"
    },
    "executionInfo": {
     "elapsed": 34484,
     "status": "ok",
     "timestamp": 1634370575918,
     "user": {
      "displayName": "Shannon Lee",
      "photoUrl": "https://lh3.googleusercontent.com/a/default-user=s64",
      "userId": "11324323325952360404"
     },
     "user_tz": -480
    },
    "id": "5450132d",
    "outputId": "22f1204b-5f69-4d6f-b65e-7f462d69f551"
   },
   "outputs": [],
   "source": [
    "import scipy\n",
    "import pickle\n",
    "import pandas as pd\n",
    "import numpy as np\n",
    "import seaborn as sns\n",
    "from scipy import sparse\n",
    "import time\n",
    "\n",
    "import seaborn as sns\n",
    "import matplotlib.pyplot as plt\n",
    "\n",
    "from sklearn.linear_model import LogisticRegression\n",
    "from sklearn.linear_model import SGDClassifier\n",
    "from sklearn.svm import LinearSVC\n",
    "from sklearn.neighbors import KNeighborsClassifier\n",
    "from sklearn.metrics import (confusion_matrix, mean_squared_error, \n",
    "                             classification_report, accuracy_score, \n",
    "                             precision_score, recall_score, f1_score, auc, \n",
    "                             roc_auc_score, roc_curve, precision_recall_curve)"
   ]
  },
  {
   "cell_type": "markdown",
   "metadata": {},
   "source": [
    "## Load Vectorizer"
   ]
  },
  {
   "cell_type": "code",
   "execution_count": 2,
   "metadata": {
    "scrolled": true
   },
   "outputs": [
    {
     "name": "stderr",
     "output_type": "stream",
     "text": [
      "C:\\Users\\shank\\anaconda3\\lib\\site-packages\\sklearn\\base.py:329: UserWarning: Trying to unpickle estimator TfidfTransformer from version 0.22.2.post1 when using version 0.23.1. This might lead to breaking code or invalid results. Use at your own risk.\n",
      "  warnings.warn(\n",
      "C:\\Users\\shank\\anaconda3\\lib\\site-packages\\sklearn\\base.py:329: UserWarning: Trying to unpickle estimator TfidfVectorizer from version 0.22.2.post1 when using version 0.23.1. This might lead to breaking code or invalid results. Use at your own risk.\n",
      "  warnings.warn(\n"
     ]
    }
   ],
   "source": [
    "# Vectorizer used for training data\n",
    "vect = pickle.load(open(\"tfidf_vect.pickle\", \"rb\"))\n",
    "# vect.vocabulary_"
   ]
  },
  {
   "cell_type": "markdown",
   "metadata": {},
   "source": [
    "## Load Files"
   ]
  },
  {
   "cell_type": "code",
   "execution_count": 3,
   "metadata": {},
   "outputs": [],
   "source": [
    "# Load sparse mtx\n",
    "train_tf_idf = sparse.load_npz(\"train_tf_idf.npz\")\n",
    "test_tf_idf = sparse.load_npz(\"test_tf_idf.npz\")\n",
    "\n",
    "# Load extra columns\n",
    "rem_train_feats = pd.read_csv('rem_train_feats.csv')\n",
    "rem_test_feats = pd.read_csv('rem_test_feats.csv')\n",
    "\n",
    "# Load labels\n",
    "y_train = pd.read_csv('y_train.csv').label.values\n",
    "y_test = pd.read_csv('y_test.csv').label.values"
   ]
  },
  {
   "cell_type": "code",
   "execution_count": 4,
   "metadata": {},
   "outputs": [
    {
     "data": {
      "text/html": [
       "<div>\n",
       "<style scoped>\n",
       "    .dataframe tbody tr th:only-of-type {\n",
       "        vertical-align: middle;\n",
       "    }\n",
       "\n",
       "    .dataframe tbody tr th {\n",
       "        vertical-align: top;\n",
       "    }\n",
       "\n",
       "    .dataframe thead th {\n",
       "        text-align: right;\n",
       "    }\n",
       "</style>\n",
       "<table border=\"1\" class=\"dataframe\">\n",
       "  <thead>\n",
       "    <tr style=\"text-align: right;\">\n",
       "      <th></th>\n",
       "      <th>quoted_word_count</th>\n",
       "      <th>stopword_count</th>\n",
       "      <th>word_count</th>\n",
       "      <th>weird_caps</th>\n",
       "    </tr>\n",
       "  </thead>\n",
       "  <tbody>\n",
       "    <tr>\n",
       "      <th>0</th>\n",
       "      <td>0</td>\n",
       "      <td>1</td>\n",
       "      <td>3</td>\n",
       "      <td>0</td>\n",
       "    </tr>\n",
       "    <tr>\n",
       "      <th>1</th>\n",
       "      <td>0</td>\n",
       "      <td>3</td>\n",
       "      <td>7</td>\n",
       "      <td>0</td>\n",
       "    </tr>\n",
       "  </tbody>\n",
       "</table>\n",
       "</div>"
      ],
      "text/plain": [
       "   quoted_word_count  stopword_count  word_count  weird_caps\n",
       "0                  0               1           3           0\n",
       "1                  0               3           7           0"
      ]
     },
     "execution_count": 4,
     "metadata": {},
     "output_type": "execute_result"
    }
   ],
   "source": [
    "rem_train_feats.head(2)"
   ]
  },
  {
   "cell_type": "code",
   "execution_count": 5,
   "metadata": {},
   "outputs": [],
   "source": [
    "# Concat the sparse mtx and dataframe together\n",
    "from scipy.sparse import hstack\n",
    "X_train = hstack([train_tf_idf, rem_train_feats])\n",
    "X_test = hstack([test_tf_idf, rem_test_feats])"
   ]
  },
  {
   "cell_type": "code",
   "execution_count": 6,
   "metadata": {},
   "outputs": [
    {
     "name": "stdout",
     "output_type": "stream",
     "text": [
      "(698414, 50004)\n",
      "(299321, 50004)\n"
     ]
    }
   ],
   "source": [
    "print(X_train.shape)\n",
    "print(X_test.shape)"
   ]
  },
  {
   "cell_type": "markdown",
   "metadata": {
    "id": "HtoHvi4RsggG"
   },
   "source": [
    "# kNN"
   ]
  },
  {
   "cell_type": "markdown",
   "metadata": {
    "id": "E2Q55BMDrNRV"
   },
   "source": [
    "#### Weight = 'uniform'"
   ]
  },
  {
   "cell_type": "code",
   "execution_count": null,
   "metadata": {},
   "outputs": [],
   "source": [
    "kNN = []\n",
    "\n",
    "for i in range(1,9):\n",
    "  lc = KNeighborsClassifier(n_neighbors=i, n_jobs=2)\n",
    "\n",
    "  start = time.time()\n",
    "  print(\"Model fitting start time...\")\n",
    "\n",
    "  lc.fit(X_train, y_train)\n",
    "  y_hat = lc.predict(X_test)\n",
    "\n",
    "  end = time.time()\n",
    "  print(f'Model fitting time taken: {end - start}s')\n",
    "\n",
    "  precision = precision_score(y_test, y_hat)\n",
    "  recall = recall_score(y_test, y_hat)\n",
    "  accuracy = accuracy_score(y_test, y_hat)\n",
    "  f1 = f1_score(y_test,y_hat)\n",
    "  kNN.append([i, accuracy, recall, precision, f1])\n",
    "\n",
    "perf = np.array(kNN)\n",
    "perf_df = pd.DataFrame(perf ,columns=['k', 'accuracy', 'recall', 'precision', 'f1'])\n",
    "perf_df.set_index('k', inplace=True, drop=True)\n",
    "perf_df"
   ]
  },
  {
   "cell_type": "code",
   "execution_count": null,
   "metadata": {
    "id": "GdH2RJLZsfsu"
   },
   "outputs": [],
   "source": [
    "fig, ax = plt.subplots(1, 1, figsize=(12, 7))\n",
    "ax = sns.lineplot(data=perf_df)\n",
    "ax.set(xticks=perf_df.index)\n",
    "ax.set_title(\"k-NN Performance\", fontsize=25)\n",
    "ax.set_ylabel(\"Value\", fontsize=22)\n",
    "ax.set_xlabel(\"k\", fontsize=22)"
   ]
  },
  {
   "cell_type": "markdown",
   "metadata": {
    "id": "RSUft0LGCtSW"
   },
   "source": [
    "#### Weight = 'distance'"
   ]
  },
  {
   "cell_type": "code",
   "execution_count": null,
   "metadata": {
    "executionInfo": {
     "elapsed": 337,
     "status": "ok",
     "timestamp": 1634377377418,
     "user": {
      "displayName": "Shannon Lee",
      "photoUrl": "https://lh3.googleusercontent.com/a/default-user=s64",
      "userId": "11324323325952360404"
     },
     "user_tz": -480
    },
    "id": "L-4BZ9jgeuSh"
   },
   "outputs": [],
   "source": [
    "kNN = []\n",
    "\n",
    "for i in range(1,9):\n",
    "  lc = KNeighborsClassifier(n_neighbors=i, n_jobs=2, weights='distance')\n",
    "\n",
    "  start = time.time()\n",
    "  print(\"Model fitting start time...\")\n",
    "\n",
    "  lc.fit(X_train, y_train)\n",
    "  y_hat = lc.predict(X_test)\n",
    "\n",
    "  end = time.time()\n",
    "  print(f'Model fitting time taken: {end - start}s')\n",
    "\n",
    "  precision = precision_score(y_test, y_hat)\n",
    "  recall = recall_score(y_test, y_hat)\n",
    "  accuracy = accuracy_score(y_test, y_hat)\n",
    "  f1 = f1_score(y_test,y_hat)\n",
    "  kNN.append([i, accuracy, recall, precision, f1])\n",
    "\n",
    "perf = np.array(kNN)\n",
    "perf_df = pd.DataFrame(perf ,columns=['k', 'accuracy', 'recall', 'precision', 'f1'])\n",
    "perf_df.set_index('k', inplace=True, drop=True)\n",
    "perf_df"
   ]
  },
  {
   "cell_type": "code",
   "execution_count": null,
   "metadata": {
    "id": "w_dMfBuraoiL"
   },
   "outputs": [],
   "source": [
    "fig, ax = plt.subplots(1, 1, figsize=(12, 7))\n",
    "ax = sns.lineplot(data=perf_df)\n",
    "ax.set(xticks=perf_df.index)\n",
    "ax.set_title(\"k-NN Performance\", fontsize=25)\n",
    "ax.set_ylabel(\"Value\", fontsize=22)\n",
    "ax.set_xlabel(\"k\", fontsize=22)"
   ]
  },
  {
   "cell_type": "markdown",
   "metadata": {
    "id": "cF4NtuwZj8bL"
   },
   "source": [
    "# SVC"
   ]
  },
  {
   "cell_type": "code",
   "execution_count": null,
   "metadata": {
    "colab": {
     "base_uri": "https://localhost:8080/"
    },
    "executionInfo": {
     "elapsed": 114991,
     "status": "ok",
     "timestamp": 1633976605197,
     "user": {
      "displayName": "Shannon Lee",
      "photoUrl": "https://lh3.googleusercontent.com/a/default-user=s64",
      "userId": "11324323325952360404"
     },
     "user_tz": -480
    },
    "id": "0Qf_MshPkAf-",
    "outputId": "4ab09fc0-0bec-4eeb-857c-0b184675d402"
   },
   "outputs": [],
   "source": [
    "performance = []\n",
    "\n",
    "for i in range(1,11):\n",
    "  clf = LinearSVC(random_state=0, tol=1e-5, verbose=1, C=i/10)\n",
    "  clf.fit(X_train, y_train)\n",
    "  y_hat = clf.predict(X_test)\n",
    "  precision = precision_score(y_test, y_hat)\n",
    "  recall = recall_score(y_test, y_hat)\n",
    "  accuracy = accuracy_score(y_test, y_hat)\n",
    "  f1 = f1_score(y_test,y_hat)\n",
    "  performance.append([i/10, accuracy, recall, precision, f1])\n",
    "\n",
    "perf = np.array(performance)\n",
    "perf_df = pd.DataFrame(perf, columns=['C', 'accuracy', 'recall', 'precision', 'f1'])\n",
    "perf_df.set_index('C', inplace=True, drop=True)"
   ]
  },
  {
   "cell_type": "code",
   "execution_count": null,
   "metadata": {
    "colab": {
     "base_uri": "https://localhost:8080/",
     "height": 497
    },
    "executionInfo": {
     "elapsed": 22,
     "status": "ok",
     "timestamp": 1633976605200,
     "user": {
      "displayName": "Shannon Lee",
      "photoUrl": "https://lh3.googleusercontent.com/a/default-user=s64",
      "userId": "11324323325952360404"
     },
     "user_tz": -480
    },
    "id": "Ai_p6zU5kvzv",
    "outputId": "7a1f815a-0fbf-45f0-e365-a0968b907ad5"
   },
   "outputs": [],
   "source": [
    "fig, ax = plt.subplots(1, 1, figsize=(12, 7))\n",
    "ax = sns.lineplot(data=perf_df)\n",
    "ax.set(xticks=perf_df.index)\n",
    "ax.set_title(\"SVC Performance\", fontsize=25)\n",
    "ax.set_ylabel(\"Value\", fontsize=22)\n",
    "ax.set_xlabel(\"C\", fontsize=22)"
   ]
  },
  {
   "cell_type": "markdown",
   "metadata": {
    "id": "XGgxgaY-tCvM"
   },
   "source": [
    "# SGD"
   ]
  },
  {
   "cell_type": "code",
   "execution_count": null,
   "metadata": {
    "colab": {
     "base_uri": "https://localhost:8080/",
     "height": 332
    },
    "executionInfo": {
     "elapsed": 277504,
     "status": "ok",
     "timestamp": 1633954334114,
     "user": {
      "displayName": "Rusdi Haizim",
      "photoUrl": "https://lh3.googleusercontent.com/a-/AOh14GjWfPSYwXHhvrK6szspjO_ddjrYlXfHpKK4AkIR=s64",
      "userId": "17202268472637420809"
     },
     "user_tz": -480
    },
    "id": "VjxtPgpH_i_d",
    "outputId": "3456ebd8-b6f3-4a49-a40b-e635aa165aed"
   },
   "outputs": [],
   "source": [
    "performance = []\n",
    "\n",
    "for i in range(-10,-2):\n",
    "  lc = SGDClassifier(max_iter=100000, alpha=10**i)\n",
    "  lc.fit(X_train, y_train)\n",
    "  y_hat = lc.predict(X_test)\n",
    "  precision = precision_score(y_test, y_hat)\n",
    "  recall = recall_score(y_test, y_hat)\n",
    "  accuracy = accuracy_score(y_test, y_hat)\n",
    "  f1 = f1_score(y_test,y_hat)\n",
    "  performance.append([10**i, accuracy, recall, precision, f1])\n",
    "\n",
    "perf = np.array(performance)\n",
    "perf_df = pd.DataFrame(perf ,columns=['alpha', 'accuracy', 'recall', 'precision', 'f1'])\n",
    "perf_df.set_index('alpha', inplace=True, drop=True)"
   ]
  },
  {
   "cell_type": "code",
   "execution_count": null,
   "metadata": {
    "colab": {
     "base_uri": "https://localhost:8080/",
     "height": 498
    },
    "executionInfo": {
     "elapsed": 1794,
     "status": "ok",
     "timestamp": 1633727130439,
     "user": {
      "displayName": "Shannon Lee",
      "photoUrl": "https://lh3.googleusercontent.com/a/default-user=s64",
      "userId": "11324323325952360404"
     },
     "user_tz": -480
    },
    "id": "eLa_OieZFzpG",
    "outputId": "35162ba6-d0e5-4acc-cc18-6d431420fb24"
   },
   "outputs": [],
   "source": [
    "fig, ax = plt.subplots(1, 1, figsize=(12, 7))\n",
    "ax = sns.lineplot(data=perf_df)\n",
    "ax.set(xscale='log')\n",
    "ax.set(xticks=perf_df.index)\n",
    "ax.set_title(\"SGD Performance\", fontsize=25)\n",
    "ax.set_ylabel(\"Value\", fontsize=22)\n",
    "ax.set_xlabel(\"Regularization\", fontsize=22)"
   ]
  },
  {
   "cell_type": "markdown",
   "metadata": {
    "id": "ncs8e8THQvCN"
   },
   "source": [
    "# Cross Validation"
   ]
  },
  {
   "cell_type": "code",
   "execution_count": 18,
   "metadata": {
    "id": "fbAnd1YwQgQm"
   },
   "outputs": [
    {
     "name": "stderr",
     "output_type": "stream",
     "text": [
      "[Parallel(n_jobs=2)]: Using backend LokyBackend with 2 concurrent workers.\n",
      "[Parallel(n_jobs=2)]: Done   5 out of   5 | elapsed: 20.4min finished\n"
     ]
    }
   ],
   "source": [
    "# 5-Fold Cross Validation\n",
    "from sklearn.model_selection import cross_validate\n",
    "\n",
    "clf = LinearSVC(random_state=0, tol=1e-5, verbose=1, C=1.0)\n",
    "\n",
    "scores = cross_validate(clf, X_train, y_train, n_jobs=2, verbose=1, scoring=('accuracy', 'precision', 'recall', 'f1'), return_estimator=True)"
   ]
  },
  {
   "cell_type": "code",
   "execution_count": 19,
   "metadata": {
    "id": "Ql2cjNX1aOY7"
   },
   "outputs": [
    {
     "data": {
      "image/png": "[encoded data removed]",
      "text/plain": [
       "<Figure size 801.125x360 with 1 Axes>"
      ]
     },
     "metadata": {
      "needs_background": "light"
     },
     "output_type": "display_data"
    }
   ],
   "source": [
    "metrics = np.append([np.full(5, 'accuracy'),np.full(5, 'precision')], [np.full(5, 'recall'),np.full(5, 'f1')])\n",
    "folds = np.append([range(0, 5),range(0, 5)], [range(0, 5),range(0, 5)])\n",
    "values = np.append([scores['test_accuracy'],scores['test_precision']], [scores['test_recall'],scores['test_f1']])\n",
    "\n",
    "scores_array = {'values': values, 'folds': folds, 'metric': metrics}\n",
    "# np.array(scores_array)\n",
    "\n",
    "scores_df = pd.DataFrame(scores_array)\n",
    "scores_df\n",
    "\n",
    "ax = sns.catplot(x='values', y='folds',\n",
    "                data=scores_df, hue='metric',\n",
    "                kind=\"bar\", ci=None, aspect=2, orient='h')"
   ]
  },
  {
   "cell_type": "markdown",
   "metadata": {
    "id": "GX5lK6WhSBi8"
   },
   "source": [
    "# Feature Importance"
   ]
  },
  {
   "cell_type": "code",
   "execution_count": null,
   "metadata": {
    "colab": {
     "base_uri": "https://localhost:8080/"
    },
    "executionInfo": {
     "elapsed": 12290,
     "status": "ok",
     "timestamp": 1633974601558,
     "user": {
      "displayName": "Shannon Lee",
      "photoUrl": "https://lh3.googleusercontent.com/a/default-user=s64",
      "userId": "11324323325952360404"
     },
     "user_tz": -480
    },
    "id": "LbV6j1TfOHSi",
    "outputId": "244a5b8b-3100-4f5c-f9ca-524547a5b90c"
   },
   "outputs": [],
   "source": [
    "lc = LogisticRegression(verbose=1, n_jobs=2, solver='lbfgs')\n",
    "lc.fit(X_train, y_train)\n",
    "\n",
    "features = dict(sorted(vect.vocabulary_.items(), key=lambda item: item[1]))\n",
    "importances = pd.DataFrame(data={\n",
    "    'Attribute': features.keys(),\n",
    "    'Importance': lc.coef_[0]\n",
    "})\n",
    "\n",
    "# Sort the features by the absolute value of their coefficient\n",
    "importances[\"abs_value\"] = importances[\"Importance\"].apply(lambda x: abs(x))\n",
    "importances[\"colors\"] = importances[\"Importance\"].apply(lambda x: \"green\" if x > 0 else \"red\")\n",
    "importances = importances.sort_values(\"abs_value\", ascending=False)"
   ]
  },
  {
   "cell_type": "code",
   "execution_count": null,
   "metadata": {
    "colab": {
     "base_uri": "https://localhost:8080/",
     "height": 569
    },
    "executionInfo": {
     "elapsed": 1066,
     "status": "ok",
     "timestamp": 1633974602614,
     "user": {
      "displayName": "Shannon Lee",
      "photoUrl": "https://lh3.googleusercontent.com/a/default-user=s64",
      "userId": "11324323325952360404"
     },
     "user_tz": -480
    },
    "id": "bUUnzbUs1Uji",
    "outputId": "a9eb28e4-d6e7-4dcc-c40d-5bf6e6e3eb89"
   },
   "outputs": [],
   "source": [
    "# Plot features\n",
    "fig, (ax1, ax2) = plt.subplots(1, 2, figsize=(12, 10))\n",
    "fig.tight_layout(pad=10.0)\n",
    "\n",
    "sns.barplot(x=\"Importance\",\n",
    "            y=\"Attribute\",\n",
    "            ax=ax1,\n",
    "            data=importances[importances['colors']=='red'].head(20),\n",
    "            color='red')\n",
    "sns.barplot(x=\"Importance\",\n",
    "            y=\"Attribute\",\n",
    "            ax=ax2,\n",
    "            data=importances[importances['colors']=='green'].head(20),\n",
    "            color='green')\n",
    "\n",
    "ax1.set_title(\"Top 20 Negative Features\", fontsize=22)\n",
    "ax1.set_ylabel(None)\n",
    "ax1.set_xlabel(\"Coefficients\", fontsize=20)\n",
    "ax2.set_title(\"Top 20 Positive Features\", fontsize=22)\n",
    "ax2.set_ylabel(None)\n",
    "ax2.set_xlabel(\"Coefficients\", fontsize=20)\n"
   ]
  },
  {
   "cell_type": "markdown",
   "metadata": {},
   "source": [
    "# ROC Curves and AUC"
   ]
  },
  {
   "cell_type": "code",
   "execution_count": 24,
   "metadata": {},
   "outputs": [
    {
     "name": "stderr",
     "output_type": "stream",
     "text": [
      "[Parallel(n_jobs=2)]: Using backend LokyBackend with 2 concurrent workers.\n",
      "[Parallel(n_jobs=2)]: Done   1 out of   1 | elapsed:   14.8s finished\n"
     ]
    }
   ],
   "source": [
    "lc = LogisticRegression(verbose=1, n_jobs=2, solver='lbfgs')\n",
    "lc.fit(X_train, y_train)\n",
    "\n",
    "lr_probs = lc.predict_proba(X_test)\n",
    "lr_probs = lr_probs[:, 1]\n",
    "ns_probs = [0 for _ in range(len(y_test))]"
   ]
  },
  {
   "cell_type": "code",
   "execution_count": 25,
   "metadata": {},
   "outputs": [
    {
     "name": "stdout",
     "output_type": "stream",
     "text": [
      "Logistic: ROC AUC=0.758\n",
      "No Skill: ROC AUC=0.500\n"
     ]
    }
   ],
   "source": [
    "lr_auc = roc_auc_score(y_test, lr_probs)\n",
    "ns_auc = roc_auc_score(y_test, ns_probs)\n",
    "print('Logistic: ROC AUC=%.3f' % (lr_auc))\n",
    "print('No Skill: ROC AUC=%.3f' % (ns_auc))"
   ]
  },
  {
   "cell_type": "code",
   "execution_count": 29,
   "metadata": {},
   "outputs": [
    {
     "data": {
      "image/png": "[encoded data removed]",
      "text/plain": [
       "<Figure size 432x288 with 1 Axes>"
      ]
     },
     "metadata": {
      "needs_background": "light"
     },
     "output_type": "display_data"
    }
   ],
   "source": [
    "ns_fpr, ns_tpr, _ = roc_curve(y_test, ns_probs)\n",
    "lr_fpr, lr_tpr, _ = roc_curve(y_test, lr_probs)\n",
    "# plot the roc curve for the model\n",
    "pyplot.plot(ns_fpr, ns_tpr, linestyle='--', label='No Skill')\n",
    "pyplot.plot(lr_fpr, lr_tpr, marker='.', label='Logistic')\n",
    "# axis labels\n",
    "pyplot.xlabel('False Positive Rate')\n",
    "pyplot.ylabel('True Positive Rate')\n",
    "# show the legend\n",
    "pyplot.legend()\n",
    "# show the plot\n",
    "pyplot.show()"
   ]
  },
  {
   "cell_type": "markdown",
   "metadata": {},
   "source": [
    "### Precision Recall Curve"
   ]
  },
  {
   "cell_type": "code",
   "execution_count": 36,
   "metadata": {},
   "outputs": [
    {
     "name": "stdout",
     "output_type": "stream",
     "text": [
      "Logistic: f1=0.678 auc=0.761\n"
     ]
    },
    {
     "data": {
      "image/png": "[encoded data removed]",
      "text/plain": [
       "<Figure size 432x288 with 1 Axes>"
      ]
     },
     "metadata": {
      "needs_background": "light"
     },
     "output_type": "display_data"
    }
   ],
   "source": [
    "yhat = lc.predict(X_test)\n",
    "lr_precision, lr_recall, _ = precision_recall_curve(y_test, lr_probs)\n",
    "lr_f1, lr_auc = f1_score(y_test, yhat), auc(lr_recall, lr_precision)\n",
    "# summarize scores\n",
    "print('Logistic: f1=%.3f auc=%.3f' % (lr_f1, lr_auc))\n",
    "# plot the precision-recall curves\n",
    "no_skill = len(y_test[y_test==1]) / len(y_test)\n",
    "pyplot.plot([0, 1], [no_skill, no_skill], linestyle='--', label='No Skill')\n",
    "pyplot.plot(lr_recall, lr_precision, marker='.', label='Logistic')\n",
    "# axis labels\n",
    "pyplot.xlabel('Recall')\n",
    "pyplot.ylabel('Precision')\n",
    "# show the legend\n",
    "pyplot.legend()\n",
    "# show the plot\n",
    "pyplot.show()"
   ]
  },
  {
   "cell_type": "markdown",
   "metadata": {
    "id": "dQqPzo-UQDfY"
   },
   "source": [
    "# Model Comparison"
   ]
  },
  {
   "cell_type": "code",
   "execution_count": 7,
   "metadata": {
    "executionInfo": {
     "elapsed": 376,
     "status": "ok",
     "timestamp": 1634370614096,
     "user": {
      "displayName": "Shannon Lee",
      "photoUrl": "https://lh3.googleusercontent.com/a/default-user=s64",
      "userId": "11324323325952360404"
     },
     "user_tz": -480
    },
    "id": "dJ0E0ekPDpSQ"
   },
   "outputs": [],
   "source": [
    "clf_list = [[LogisticRegression(n_jobs=2, solver='lbfgs'), 'logistic regression'],\n",
    "            [KNeighborsClassifier(n_neighbors=3, n_jobs=2, weights='distance'), 'kNN'],\n",
    "            [LinearSVC(random_state=0, tol=1e-5, C=0.2), 'SVM'],\n",
    "            [SGDClassifier(max_iter=1000, n_jobs=2, alpha=0.000001), 'SGD']]"
   ]
  },
  {
   "cell_type": "code",
   "execution_count": 8,
   "metadata": {
    "executionInfo": {
     "elapsed": 4864925,
     "status": "ok",
     "timestamp": 1634375480277,
     "user": {
      "displayName": "Shannon Lee",
      "photoUrl": "https://lh3.googleusercontent.com/a/default-user=s64",
      "userId": "11324323325952360404"
     },
     "user_tz": -480
    },
    "id": "cd3c7511"
   },
   "outputs": [
    {
     "name": "stderr",
     "output_type": "stream",
     "text": [
      "C:\\Users\\shank\\anaconda3\\lib\\site-packages\\sklearn\\svm\\_base.py:976: ConvergenceWarning: Liblinear failed to converge, increase the number of iterations.\n",
      "  warnings.warn(\"Liblinear failed to converge, increase \"\n"
     ]
    }
   ],
   "source": [
    "clf_perf = []\n",
    "clf_y = {}\n",
    "\n",
    "for clf in clf_list:\n",
    "  clf[0].fit(X_train, y_train)\n",
    "  y_hat = clf[0].predict(X_test)\n",
    "  precision = precision_score(y_test, y_hat)\n",
    "  recall = recall_score(y_test, y_hat)\n",
    "  accuracy = accuracy_score(y_test, y_hat)\n",
    "  f1 = f1_score(y_test,y_hat)\n",
    "  clf_perf.append([clf[1], 'accuracy', accuracy])\n",
    "  clf_perf.append([clf[1], 'recall', recall])\n",
    "  clf_perf.append([clf[1], 'precision', precision])\n",
    "  clf_perf.append([clf[1], 'f1', f1])\n",
    "  clf_y[clf[1]] = y_hat\n",
    "\n",
    "perf_df = pd.DataFrame(clf_perf, columns=['model', 'metric', 'value'])"
   ]
  },
  {
   "cell_type": "code",
   "execution_count": 9,
   "metadata": {
    "colab": {
     "base_uri": "https://localhost:8080/",
     "height": 494
    },
    "executionInfo": {
     "elapsed": 1176,
     "status": "ok",
     "timestamp": 1634377312396,
     "user": {
      "displayName": "Shannon Lee",
      "photoUrl": "https://lh3.googleusercontent.com/a/default-user=s64",
      "userId": "11324323325952360404"
     },
     "user_tz": -480
    },
    "id": "W4DhH3OvodEP",
    "outputId": "27ea3cb0-7c58-4f3d-e8d4-8096e62d7320"
   },
   "outputs": [
    {
     "data": {
      "text/plain": [
       "[(0.0, 1.0)]"
      ]
     },
     "execution_count": 9,
     "metadata": {},
     "output_type": "execute_result"
    },
    {
     "data": {
      "image/png": "[encoded data removed]",
      "text/plain": [
       "<Figure size 864x504 with 1 Axes>"
      ]
     },
     "metadata": {
      "needs_background": "light"
     },
     "output_type": "display_data"
    }
   ],
   "source": [
    "#Plot performance\n",
    "fig, ax = plt.subplots(1, 1, figsize=(12, 7))\n",
    "ax = sns.barplot(x=\"metric\", y=\"value\", hue=\"model\", data=perf_df)\n",
    "ax.set_title(\"Non Linear / Linear Model Performance\", fontsize=25)\n",
    "ax.set_ylabel(\"Value\", fontsize=22)\n",
    "ax.set_xlabel(\"Metric\", fontsize=22)\n",
    "ax.set(ylim=(0, 1))"
   ]
  },
  {
   "cell_type": "code",
   "execution_count": 10,
   "metadata": {
    "colab": {
     "base_uri": "https://localhost:8080/",
     "height": 462
    },
    "executionInfo": {
     "elapsed": 2494,
     "status": "ok",
     "timestamp": 1634377323797,
     "user": {
      "displayName": "Shannon Lee",
      "photoUrl": "https://lh3.googleusercontent.com/a/default-user=s64",
      "userId": "11324323325952360404"
     },
     "user_tz": -480
    },
    "id": "6pun0jAuqNy7",
    "outputId": "e36fcd70-7fa3-414b-e59e-9dba9ead8ccf"
   },
   "outputs": [
    {
     "data": {
      "image/png": "[encoded data removed]",
      "text/plain": [
       "<Figure size 864x504 with 7 Axes>"
      ]
     },
     "metadata": {
      "needs_background": "light"
     },
     "output_type": "display_data"
    }
   ],
   "source": [
    "#Plot confussion matrix\n",
    "fig, ax = plt.subplots(2, 2, figsize=(12, 7))\n",
    "fig.tight_layout(pad=5.0)\n",
    "\n",
    "def plot_matrix(i, j, matrix, model):\n",
    "  sns.heatmap(matrix, ax=ax[i][j], cmap= 'PuBu', annot=True, fmt='g', annot_kws={'size':20})\n",
    "  ax[i][j].set_title(model, fontsize=14)\n",
    "  ax[i][j].set_xlabel(\"Predicted\")\n",
    "  ax[i][j].set_ylabel(\"Actual\")\n",
    "\n",
    "plot_matrix(0, 0, confusion_matrix(y_test, clf_y['logistic regression']), 'Logistic Regression')\n",
    "plot_matrix(0, 1, confusion_matrix(y_test, clf_y['kNN']), 'kNN')\n",
    "plot_matrix(1, 0, confusion_matrix(y_test, clf_y['SVM']), 'SVM')\n",
    "plot_matrix(1, 1, confusion_matrix(y_test, clf_y['SGD']), 'SGD')"
   ]
  },
  {
   "cell_type": "code",
   "execution_count": 11,
   "metadata": {},
   "outputs": [
    {
     "data": {
      "text/html": [
       "<div>\n",
       "<style scoped>\n",
       "    .dataframe tbody tr th:only-of-type {\n",
       "        vertical-align: middle;\n",
       "    }\n",
       "\n",
       "    .dataframe tbody tr th {\n",
       "        vertical-align: top;\n",
       "    }\n",
       "\n",
       "    .dataframe thead th {\n",
       "        text-align: right;\n",
       "    }\n",
       "</style>\n",
       "<table border=\"1\" class=\"dataframe\">\n",
       "  <thead>\n",
       "    <tr style=\"text-align: right;\">\n",
       "      <th></th>\n",
       "      <th>model</th>\n",
       "      <th>metric</th>\n",
       "      <th>value</th>\n",
       "    </tr>\n",
       "  </thead>\n",
       "  <tbody>\n",
       "    <tr>\n",
       "      <th>0</th>\n",
       "      <td>logistic regression</td>\n",
       "      <td>accuracy</td>\n",
       "      <td>0.692728</td>\n",
       "    </tr>\n",
       "    <tr>\n",
       "      <th>1</th>\n",
       "      <td>logistic regression</td>\n",
       "      <td>recall</td>\n",
       "      <td>0.644280</td>\n",
       "    </tr>\n",
       "    <tr>\n",
       "      <th>2</th>\n",
       "      <td>logistic regression</td>\n",
       "      <td>precision</td>\n",
       "      <td>0.714461</td>\n",
       "    </tr>\n",
       "    <tr>\n",
       "      <th>3</th>\n",
       "      <td>logistic regression</td>\n",
       "      <td>f1</td>\n",
       "      <td>0.677558</td>\n",
       "    </tr>\n",
       "    <tr>\n",
       "      <th>4</th>\n",
       "      <td>SVM</td>\n",
       "      <td>accuracy</td>\n",
       "      <td>0.735735</td>\n",
       "    </tr>\n",
       "    <tr>\n",
       "      <th>5</th>\n",
       "      <td>SVM</td>\n",
       "      <td>recall</td>\n",
       "      <td>0.709660</td>\n",
       "    </tr>\n",
       "    <tr>\n",
       "      <th>6</th>\n",
       "      <td>SVM</td>\n",
       "      <td>precision</td>\n",
       "      <td>0.749613</td>\n",
       "    </tr>\n",
       "    <tr>\n",
       "      <th>7</th>\n",
       "      <td>SVM</td>\n",
       "      <td>f1</td>\n",
       "      <td>0.729089</td>\n",
       "    </tr>\n",
       "    <tr>\n",
       "      <th>8</th>\n",
       "      <td>SGD</td>\n",
       "      <td>accuracy</td>\n",
       "      <td>0.718399</td>\n",
       "    </tr>\n",
       "    <tr>\n",
       "      <th>9</th>\n",
       "      <td>SGD</td>\n",
       "      <td>recall</td>\n",
       "      <td>0.636086</td>\n",
       "    </tr>\n",
       "    <tr>\n",
       "      <th>10</th>\n",
       "      <td>SGD</td>\n",
       "      <td>precision</td>\n",
       "      <td>0.762555</td>\n",
       "    </tr>\n",
       "    <tr>\n",
       "      <th>11</th>\n",
       "      <td>SGD</td>\n",
       "      <td>f1</td>\n",
       "      <td>0.693603</td>\n",
       "    </tr>\n",
       "  </tbody>\n",
       "</table>\n",
       "</div>"
      ],
      "text/plain": [
       "                  model     metric     value\n",
       "0   logistic regression   accuracy  0.692728\n",
       "1   logistic regression     recall  0.644280\n",
       "2   logistic regression  precision  0.714461\n",
       "3   logistic regression         f1  0.677558\n",
       "4                   SVM   accuracy  0.735735\n",
       "5                   SVM     recall  0.709660\n",
       "6                   SVM  precision  0.749613\n",
       "7                   SVM         f1  0.729089\n",
       "8                   SGD   accuracy  0.718399\n",
       "9                   SGD     recall  0.636086\n",
       "10                  SGD  precision  0.762555\n",
       "11                  SGD         f1  0.693603"
      ]
     },
     "execution_count": 11,
     "metadata": {},
     "output_type": "execute_result"
    }
   ],
   "source": [
    "perf_df"
   ]
  },
  {
   "cell_type": "markdown",
   "metadata": {},
   "source": [
    "# News headlines"
   ]
  },
  {
   "cell_type": "code",
   "execution_count": 7,
   "metadata": {},
   "outputs": [
    {
     "data": {
      "text/plain": [
       "<26709x50000 sparse matrix of type '<class 'numpy.float64'>'\n",
       "\twith 175391 stored elements in Compressed Sparse Row format>"
      ]
     },
     "execution_count": 7,
     "metadata": {},
     "output_type": "execute_result"
    }
   ],
   "source": [
    "X_news = sparse.load_npz(\"X_test_news.npz\")\n",
    "X_news"
   ]
  },
  {
   "cell_type": "code",
   "execution_count": 8,
   "metadata": {},
   "outputs": [
    {
     "data": {
      "text/plain": [
       "array([0, 0, 1, ..., 0, 0, 0], dtype=int64)"
      ]
     },
     "execution_count": 8,
     "metadata": {},
     "output_type": "execute_result"
    }
   ],
   "source": [
    "y_news = pd.read_csv('y_test_news.csv')['0'].values\n",
    "y_news"
   ]
  },
  {
   "cell_type": "code",
   "execution_count": 9,
   "metadata": {},
   "outputs": [
    {
     "data": {
      "text/plain": [
       "<698414x50000 sparse matrix of type '<class 'numpy.float64'>'\n",
       "\twith 9524435 stored elements in Compressed Sparse Row format>"
      ]
     },
     "execution_count": 9,
     "metadata": {},
     "output_type": "execute_result"
    }
   ],
   "source": [
    "train_tf_idf"
   ]
  },
  {
   "cell_type": "code",
   "execution_count": 10,
   "metadata": {
    "executionInfo": {
     "elapsed": 376,
     "status": "ok",
     "timestamp": 1634370614096,
     "user": {
      "displayName": "Shannon Lee",
      "photoUrl": "https://lh3.googleusercontent.com/a/default-user=s64",
      "userId": "11324323325952360404"
     },
     "user_tz": -480
    },
    "id": "dJ0E0ekPDpSQ"
   },
   "outputs": [],
   "source": [
    "clf_list = [[LogisticRegression(n_jobs=2, solver='lbfgs'), 'logistic regression'],\n",
    "            [KNeighborsClassifier(n_neighbors=3, n_jobs=2, weights='distance'), 'kNN'],\n",
    "            [LinearSVC(random_state=0, tol=1e-5, C=0.2), 'SVM'],\n",
    "            [SGDClassifier(max_iter=1000, n_jobs=2, alpha=0.000001), 'SGD']]"
   ]
  },
  {
   "cell_type": "code",
   "execution_count": 11,
   "metadata": {
    "executionInfo": {
     "elapsed": 4864925,
     "status": "ok",
     "timestamp": 1634375480277,
     "user": {
      "displayName": "Shannon Lee",
      "photoUrl": "https://lh3.googleusercontent.com/a/default-user=s64",
      "userId": "11324323325952360404"
     },
     "user_tz": -480
    },
    "id": "cd3c7511"
   },
   "outputs": [],
   "source": [
    "clf_perf = []\n",
    "clf_y = {}\n",
    "\n",
    "for clf in clf_list:\n",
    "  clf[0].fit(train_tf_idf, y_train)\n",
    "  y_hat = clf[0].predict(X_news)\n",
    "  precision = precision_score(y_news, y_hat)\n",
    "  recall = recall_score(y_news, y_hat)\n",
    "  accuracy = accuracy_score(y_news, y_hat)\n",
    "  f1 = f1_score(y_news,y_hat)\n",
    "  clf_perf.append([clf[1], 'accuracy', accuracy])\n",
    "  clf_perf.append([clf[1], 'recall', recall])\n",
    "  clf_perf.append([clf[1], 'precision', precision])\n",
    "  clf_perf.append([clf[1], 'f1', f1])\n",
    "  clf_y[clf[1]] = y_hat\n",
    "\n",
    "perf_df = pd.DataFrame(clf_perf, columns=['model', 'metric', 'value'])"
   ]
  },
  {
   "cell_type": "code",
   "execution_count": 12,
   "metadata": {},
   "outputs": [
    {
     "data": {
      "text/html": [
       "<div>\n",
       "<style scoped>\n",
       "    .dataframe tbody tr th:only-of-type {\n",
       "        vertical-align: middle;\n",
       "    }\n",
       "\n",
       "    .dataframe tbody tr th {\n",
       "        vertical-align: top;\n",
       "    }\n",
       "\n",
       "    .dataframe thead th {\n",
       "        text-align: right;\n",
       "    }\n",
       "</style>\n",
       "<table border=\"1\" class=\"dataframe\">\n",
       "  <thead>\n",
       "    <tr style=\"text-align: right;\">\n",
       "      <th></th>\n",
       "      <th>model</th>\n",
       "      <th>metric</th>\n",
       "      <th>value</th>\n",
       "    </tr>\n",
       "  </thead>\n",
       "  <tbody>\n",
       "    <tr>\n",
       "      <th>0</th>\n",
       "      <td>logistic regression</td>\n",
       "      <td>accuracy</td>\n",
       "      <td>0.523307</td>\n",
       "    </tr>\n",
       "    <tr>\n",
       "      <th>1</th>\n",
       "      <td>logistic regression</td>\n",
       "      <td>recall</td>\n",
       "      <td>0.297595</td>\n",
       "    </tr>\n",
       "    <tr>\n",
       "      <th>2</th>\n",
       "      <td>logistic regression</td>\n",
       "      <td>precision</td>\n",
       "      <td>0.436890</td>\n",
       "    </tr>\n",
       "    <tr>\n",
       "      <th>3</th>\n",
       "      <td>logistic regression</td>\n",
       "      <td>f1</td>\n",
       "      <td>0.354033</td>\n",
       "    </tr>\n",
       "    <tr>\n",
       "      <th>4</th>\n",
       "      <td>kNN</td>\n",
       "      <td>accuracy</td>\n",
       "      <td>0.556442</td>\n",
       "    </tr>\n",
       "    <tr>\n",
       "      <th>5</th>\n",
       "      <td>kNN</td>\n",
       "      <td>recall</td>\n",
       "      <td>0.023200</td>\n",
       "    </tr>\n",
       "    <tr>\n",
       "      <th>6</th>\n",
       "      <td>kNN</td>\n",
       "      <td>precision</td>\n",
       "      <td>0.407796</td>\n",
       "    </tr>\n",
       "    <tr>\n",
       "      <th>7</th>\n",
       "      <td>kNN</td>\n",
       "      <td>f1</td>\n",
       "      <td>0.043903</td>\n",
       "    </tr>\n",
       "    <tr>\n",
       "      <th>8</th>\n",
       "      <td>SVM</td>\n",
       "      <td>accuracy</td>\n",
       "      <td>0.512674</td>\n",
       "    </tr>\n",
       "    <tr>\n",
       "      <th>9</th>\n",
       "      <td>SVM</td>\n",
       "      <td>recall</td>\n",
       "      <td>0.362675</td>\n",
       "    </tr>\n",
       "    <tr>\n",
       "      <th>10</th>\n",
       "      <td>SVM</td>\n",
       "      <td>precision</td>\n",
       "      <td>0.434055</td>\n",
       "    </tr>\n",
       "    <tr>\n",
       "      <th>11</th>\n",
       "      <td>SVM</td>\n",
       "      <td>f1</td>\n",
       "      <td>0.395167</td>\n",
       "    </tr>\n",
       "    <tr>\n",
       "      <th>12</th>\n",
       "      <td>SGD</td>\n",
       "      <td>accuracy</td>\n",
       "      <td>0.517691</td>\n",
       "    </tr>\n",
       "    <tr>\n",
       "      <th>13</th>\n",
       "      <td>SGD</td>\n",
       "      <td>recall</td>\n",
       "      <td>0.318321</td>\n",
       "    </tr>\n",
       "    <tr>\n",
       "      <th>14</th>\n",
       "      <td>SGD</td>\n",
       "      <td>precision</td>\n",
       "      <td>0.432846</td>\n",
       "    </tr>\n",
       "    <tr>\n",
       "      <th>15</th>\n",
       "      <td>SGD</td>\n",
       "      <td>f1</td>\n",
       "      <td>0.366853</td>\n",
       "    </tr>\n",
       "  </tbody>\n",
       "</table>\n",
       "</div>"
      ],
      "text/plain": [
       "                  model     metric     value\n",
       "0   logistic regression   accuracy  0.523307\n",
       "1   logistic regression     recall  0.297595\n",
       "2   logistic regression  precision  0.436890\n",
       "3   logistic regression         f1  0.354033\n",
       "4                   kNN   accuracy  0.556442\n",
       "5                   kNN     recall  0.023200\n",
       "6                   kNN  precision  0.407796\n",
       "7                   kNN         f1  0.043903\n",
       "8                   SVM   accuracy  0.512674\n",
       "9                   SVM     recall  0.362675\n",
       "10                  SVM  precision  0.434055\n",
       "11                  SVM         f1  0.395167\n",
       "12                  SGD   accuracy  0.517691\n",
       "13                  SGD     recall  0.318321\n",
       "14                  SGD  precision  0.432846\n",
       "15                  SGD         f1  0.366853"
      ]
     },
     "execution_count": 12,
     "metadata": {},
     "output_type": "execute_result"
    }
   ],
   "source": [
    "perf_df"
   ]
  },
  {
   "cell_type": "code",
   "execution_count": 19,
   "metadata": {
    "colab": {
     "base_uri": "https://localhost:8080/",
     "height": 494
    },
    "executionInfo": {
     "elapsed": 1176,
     "status": "ok",
     "timestamp": 1634377312396,
     "user": {
      "displayName": "Shannon Lee",
      "photoUrl": "https://lh3.googleusercontent.com/a/default-user=s64",
      "userId": "11324323325952360404"
     },
     "user_tz": -480
    },
    "id": "W4DhH3OvodEP",
    "outputId": "27ea3cb0-7c58-4f3d-e8d4-8096e62d7320"
   },
   "outputs": [
    {
     "data": {
      "text/plain": [
       "[(0.0, 1.0)]"
      ]
     },
     "execution_count": 19,
     "metadata": {},
     "output_type": "execute_result"
    },
    {
     "data": {
      "image/png": "[encoded data removed]",
      "text/plain": [
       "<Figure size 864x504 with 1 Axes>"
      ]
     },
     "metadata": {
      "needs_background": "light"
     },
     "output_type": "display_data"
    }
   ],
   "source": [
    "#Plot performance\n",
    "fig, ax = plt.subplots(1, 1, figsize=(12, 7))\n",
    "ax = sns.barplot(x=\"metric\", y=\"value\", hue=\"model\", data=perf_df)\n",
    "ax.set_title(\"Non Linear / Linear Model Performance\", fontsize=25)\n",
    "ax.set_ylabel(\"Value\", fontsize=22)\n",
    "ax.set_xlabel(\"Metric\", fontsize=22)\n",
    "ax.set(ylim=(0, 1))"
   ]
  },
  {
   "cell_type": "code",
   "execution_count": null,
   "metadata": {
    "id": "wObkru0nqOs4"
   },
   "outputs": [],
   "source": [
    "def evaluation(y, y_hat, title = 'Confusion Matrix'):\n",
    "    cm = confusion_matrix(y, y_hat)\n",
    "    precision = precision_score(y, y_hat)\n",
    "    recall = recall_score(y, y_hat)\n",
    "    accuracy = accuracy_score(y, y_hat)\n",
    "    f1 = f1_score(y,y_hat)\n",
    "    print('Recall: ', recall)\n",
    "    print('Accuracy: ', accuracy)\n",
    "    print('Precision: ', precision)\n",
    "    print('F1: ', f1)\n",
    "    sns.heatmap(cm,  cmap= 'PuBu', annot=True, fmt='g', annot_kws=    {'size':20})\n",
    "    plt.xlabel('predicted', fontsize=18)\n",
    "    plt.ylabel('actual', fontsize=18)\n",
    "    plt.title(title, fontsize=18)    \n",
    "    plt.show()\n",
    "\n",
    "# evaluation(y_test, y_hat)"
   ]
  },
  {
   "cell_type": "code",
   "execution_count": 18,
   "metadata": {
    "scrolled": true
   },
   "outputs": [
    {
     "name": "stdout",
     "output_type": "stream",
     "text": [
      "Recall:  0.4328462073764788\n",
      "Accuracy:  0.5176906660676177\n",
      "Precision:  0.31832139201637666\n",
      "F1:  0.36685343556473016\n"
     ]
    },
    {
     "data": {
      "image/png": "[encoded data removed]",
      "text/plain": [
       "<Figure size 432x288 with 2 Axes>"
      ]
     },
     "metadata": {
      "needs_background": "light"
     },
     "output_type": "display_data"
    }
   ],
   "source": [
    "evaluation(clf_y['SGD'], y_news)"
   ]
  },
  {
   "cell_type": "code",
   "execution_count": null,
   "metadata": {},
   "outputs": [],
   "source": []
  }
 ],
 "metadata": {
  "colab": {
   "collapsed_sections": [
    "E2Q55BMDrNRV",
    "cF4NtuwZj8bL",
    "XGgxgaY-tCvM",
    "ncs8e8THQvCN",
    "GX5lK6WhSBi8"
   ],
   "name": "Linear and Non-Linear Models.ipynb",
   "provenance": []
  },
  "kernelspec": {
   "display_name": "Python 3",
   "language": "python",
   "name": "python3"
  },
  "language_info": {
   "codemirror_mode": {
    "name": "ipython",
    "version": 3
   },
   "file_extension": ".py",
   "mimetype": "text/x-python",
   "name": "python",
   "nbconvert_exporter": "python",
   "pygments_lexer": "ipython3",
   "version": "3.8.3"
  }
 },
 "nbformat": 4,
 "nbformat_minor": 5
}
